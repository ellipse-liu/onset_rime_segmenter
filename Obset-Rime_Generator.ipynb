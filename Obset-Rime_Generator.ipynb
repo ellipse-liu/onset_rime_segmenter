{
 "cells": [
  {
   "cell_type": "code",
   "execution_count": 5,
   "id": "eebf7d1f",
   "metadata": {},
   "outputs": [],
   "source": [
    "word_file = open(\"one-syllable-sorted-by-prevalence.txt\")\n",
    "split_file = open(\"split_words.txt\", 'w+')\n",
    "\n",
    "word_list = word_file.readlines()\n",
    "word_list = [word.strip(\"\\n\") for word in word_list]"
   ]
  },
  {
   "cell_type": "code",
   "execution_count": 6,
   "id": "f83b9916",
   "metadata": {},
   "outputs": [],
   "source": [
    "rimes = ['eight', 'ack', 'ake', 'all', 'ale', 'an', 'ame', 'ain', 'ank', 'ap', 'ash', 'at', 'ate', 'aw', 'ay', 'eat', 'ell', 'est', 'ice', 'ick', 'ight', 'ill', 'ide', 'ill', 'in', 'ine', 'ing', 'ip', 'ink', 'it', 'ock', 'op', 'op', 'oke', 'ore', 'ot', 'uck','ug', 'unk', 'ump'] "
   ]
  },
  {
   "cell_type": "code",
   "execution_count": 7,
   "id": "94d6642c",
   "metadata": {},
   "outputs": [],
   "source": [
    "def splitter(word):\n",
    "    for rime in rimes:\n",
    "        if(word.endswith(rime)):\n",
    "            split_file.write(word + '\\t' + word.replace(rime, '') + '\\t' + rime + '\\n')\n",
    "            break"
   ]
  },
  {
   "cell_type": "code",
   "execution_count": 8,
   "id": "f7870285",
   "metadata": {},
   "outputs": [],
   "source": [
    "for word in word_list:\n",
    "    splitter(word)"
   ]
  },
  {
   "cell_type": "code",
   "execution_count": null,
   "id": "bd920351",
   "metadata": {},
   "outputs": [],
   "source": []
  }
 ],
 "metadata": {
  "kernelspec": {
   "display_name": "Python [conda env:ML_Playground] *",
   "language": "python",
   "name": "conda-env-ML_Playground-py"
  },
  "language_info": {
   "codemirror_mode": {
    "name": "ipython",
    "version": 3
   },
   "file_extension": ".py",
   "mimetype": "text/x-python",
   "name": "python",
   "nbconvert_exporter": "python",
   "pygments_lexer": "ipython3",
   "version": "3.10.9"
  }
 },
 "nbformat": 4,
 "nbformat_minor": 5
}
